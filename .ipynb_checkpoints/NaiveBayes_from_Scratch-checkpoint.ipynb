{
 "cells": [
  {
   "cell_type": "markdown",
   "metadata": {
    "id": "SZYW--mOFzvT"
   },
   "source": [
    "#### Importing Packages"
   ]
  },
  {
   "cell_type": "code",
   "execution_count": 35,
   "metadata": {
    "id": "h6DV0AQjFzvU"
   },
   "outputs": [],
   "source": [
    "import numpy as np\n",
    "import pandas as pd\n",
    "from sklearn.model_selection import train_test_split\n",
    "from IPython.display import Math, HTML\n",
    "from sklearn.preprocessing import LabelEncoder"
   ]
  },
  {
   "cell_type": "markdown",
   "metadata": {},
   "source": [
    "The code is inspired by https://github.com/kurtispykes/ml-from-scratch/blob/master/naive_bayes.ipynb"
   ]
  },
  {
   "cell_type": "markdown",
   "metadata": {
    "id": "5_OUHbyKFzvV"
   },
   "source": [
    "#### Reading the data"
   ]
  },
  {
   "cell_type": "code",
   "execution_count": 36,
   "metadata": {
    "colab": {
     "base_uri": "https://localhost:8080/",
     "height": 204
    },
    "id": "txTERd76FzvV",
    "outputId": "bfeee455-0721-4a70-d36c-d0577c024bc6",
    "scrolled": true
   },
   "outputs": [
    {
     "data": {
      "text/html": [
       "<div>\n",
       "<style scoped>\n",
       "    .dataframe tbody tr th:only-of-type {\n",
       "        vertical-align: middle;\n",
       "    }\n",
       "\n",
       "    .dataframe tbody tr th {\n",
       "        vertical-align: top;\n",
       "    }\n",
       "\n",
       "    .dataframe thead th {\n",
       "        text-align: right;\n",
       "    }\n",
       "</style>\n",
       "<table border=\"1\" class=\"dataframe\">\n",
       "  <thead>\n",
       "    <tr style=\"text-align: right;\">\n",
       "      <th></th>\n",
       "      <th>AU01_r</th>\n",
       "      <th>AU02_r</th>\n",
       "      <th>AU04_r</th>\n",
       "      <th>AU05_r</th>\n",
       "      <th>AU06_r</th>\n",
       "      <th>AU07_r</th>\n",
       "      <th>AU09_r</th>\n",
       "      <th>AU10_r</th>\n",
       "      <th>AU12_r</th>\n",
       "      <th>AU14_r</th>\n",
       "      <th>AU15_r</th>\n",
       "      <th>AU17_r</th>\n",
       "      <th>AU20_r</th>\n",
       "      <th>AU23_r</th>\n",
       "      <th>AU25_r</th>\n",
       "      <th>AU26_r</th>\n",
       "      <th>AU45_r</th>\n",
       "      <th>Class</th>\n",
       "    </tr>\n",
       "  </thead>\n",
       "  <tbody>\n",
       "    <tr>\n",
       "      <th>0</th>\n",
       "      <td>0.00</td>\n",
       "      <td>0.00</td>\n",
       "      <td>1.83</td>\n",
       "      <td>2.59</td>\n",
       "      <td>0.00</td>\n",
       "      <td>0.92</td>\n",
       "      <td>0.00</td>\n",
       "      <td>1.21</td>\n",
       "      <td>0.0</td>\n",
       "      <td>0.15</td>\n",
       "      <td>1.37</td>\n",
       "      <td>2.53</td>\n",
       "      <td>0.00</td>\n",
       "      <td>0.45</td>\n",
       "      <td>0.00</td>\n",
       "      <td>0.00</td>\n",
       "      <td>0.00</td>\n",
       "      <td>frown</td>\n",
       "    </tr>\n",
       "    <tr>\n",
       "      <th>1</th>\n",
       "      <td>0.00</td>\n",
       "      <td>0.00</td>\n",
       "      <td>1.83</td>\n",
       "      <td>0.05</td>\n",
       "      <td>0.00</td>\n",
       "      <td>0.00</td>\n",
       "      <td>0.05</td>\n",
       "      <td>0.84</td>\n",
       "      <td>0.0</td>\n",
       "      <td>1.30</td>\n",
       "      <td>2.05</td>\n",
       "      <td>2.07</td>\n",
       "      <td>2.07</td>\n",
       "      <td>0.94</td>\n",
       "      <td>0.00</td>\n",
       "      <td>1.00</td>\n",
       "      <td>0.00</td>\n",
       "      <td>frown</td>\n",
       "    </tr>\n",
       "    <tr>\n",
       "      <th>2</th>\n",
       "      <td>0.00</td>\n",
       "      <td>0.22</td>\n",
       "      <td>1.52</td>\n",
       "      <td>1.20</td>\n",
       "      <td>0.57</td>\n",
       "      <td>0.00</td>\n",
       "      <td>0.71</td>\n",
       "      <td>1.28</td>\n",
       "      <td>0.0</td>\n",
       "      <td>0.00</td>\n",
       "      <td>1.66</td>\n",
       "      <td>0.20</td>\n",
       "      <td>0.00</td>\n",
       "      <td>0.19</td>\n",
       "      <td>0.00</td>\n",
       "      <td>0.00</td>\n",
       "      <td>0.00</td>\n",
       "      <td>frown</td>\n",
       "    </tr>\n",
       "    <tr>\n",
       "      <th>3</th>\n",
       "      <td>0.00</td>\n",
       "      <td>0.00</td>\n",
       "      <td>1.44</td>\n",
       "      <td>0.00</td>\n",
       "      <td>0.50</td>\n",
       "      <td>1.54</td>\n",
       "      <td>0.95</td>\n",
       "      <td>1.07</td>\n",
       "      <td>0.0</td>\n",
       "      <td>0.00</td>\n",
       "      <td>1.07</td>\n",
       "      <td>1.14</td>\n",
       "      <td>0.64</td>\n",
       "      <td>0.00</td>\n",
       "      <td>0.00</td>\n",
       "      <td>0.00</td>\n",
       "      <td>0.00</td>\n",
       "      <td>frown</td>\n",
       "    </tr>\n",
       "    <tr>\n",
       "      <th>4</th>\n",
       "      <td>0.96</td>\n",
       "      <td>0.10</td>\n",
       "      <td>2.46</td>\n",
       "      <td>0.56</td>\n",
       "      <td>0.00</td>\n",
       "      <td>1.07</td>\n",
       "      <td>0.00</td>\n",
       "      <td>0.00</td>\n",
       "      <td>0.0</td>\n",
       "      <td>0.00</td>\n",
       "      <td>0.00</td>\n",
       "      <td>0.00</td>\n",
       "      <td>0.34</td>\n",
       "      <td>0.00</td>\n",
       "      <td>0.31</td>\n",
       "      <td>0.12</td>\n",
       "      <td>0.43</td>\n",
       "      <td>frown</td>\n",
       "    </tr>\n",
       "  </tbody>\n",
       "</table>\n",
       "</div>"
      ],
      "text/plain": [
       "     AU01_r    AU02_r    AU04_r    AU05_r  ...    AU25_r    AU26_r    AU45_r  Class\n",
       "0      0.00      0.00      1.83      2.59  ...      0.00      0.00      0.00  frown\n",
       "1      0.00      0.00      1.83      0.05  ...      0.00      1.00      0.00  frown\n",
       "2      0.00      0.22      1.52      1.20  ...      0.00      0.00      0.00  frown\n",
       "3      0.00      0.00      1.44      0.00  ...      0.00      0.00      0.00  frown\n",
       "4      0.96      0.10      2.46      0.56  ...      0.31      0.12      0.43  frown\n",
       "\n",
       "[5 rows x 18 columns]"
      ]
     },
     "execution_count": 36,
     "metadata": {
      "tags": []
     },
     "output_type": "execute_result"
    }
   ],
   "source": [
    "data=pd.read_csv('dataset.csv')\n",
    "data.head()"
   ]
  },
  {
   "cell_type": "code",
   "execution_count": 37,
   "metadata": {
    "colab": {
     "base_uri": "https://localhost:8080/"
    },
    "id": "mdtwslpHG-rH",
    "outputId": "8b613348-06f1-40a3-bce1-7fe128f03f51"
   },
   "outputs": [
    {
     "data": {
      "text/plain": [
       "(52, 18)"
      ]
     },
     "execution_count": 37,
     "metadata": {
      "tags": []
     },
     "output_type": "execute_result"
    }
   ],
   "source": [
    "data.shape"
   ]
  },
  {
   "cell_type": "code",
   "execution_count": 38,
   "metadata": {
    "id": "PnLjBWOUFzvV"
   },
   "outputs": [],
   "source": [
    "y    =  data['Class'].tolist()\n",
    "X    =  data.drop(['Class'], axis = 1)"
   ]
  },
  {
   "cell_type": "markdown",
   "metadata": {
    "id": "KiKlhQFEFzvV"
   },
   "source": [
    "#### Encoding the Categorial data"
   ]
  },
  {
   "cell_type": "code",
   "execution_count": 39,
   "metadata": {
    "id": "p1f41c5FFzvW"
   },
   "outputs": [],
   "source": [
    "# One-hot encode categorical output label\n",
    "enc            =   LabelEncoder()\n",
    "label_encoder  =   enc.fit(y)\n",
    "y              =   label_encoder.transform(y)\n",
    "label_dict = {0: 'frown', 1: 'smile'}"
   ]
  },
  {
   "cell_type": "markdown",
   "metadata": {
    "id": "Gm2y9zTxFzvW"
   },
   "source": [
    "#### Splitting the data into training and testing data"
   ]
  },
  {
   "cell_type": "code",
   "execution_count": 40,
   "metadata": {
    "id": "Dh66ex11FzvW"
   },
   "outputs": [],
   "source": [
    "X_train, X_test, y_train, y_test = train_test_split(X, y, test_size=0.30, shuffle=True)"
   ]
  },
  {
   "cell_type": "code",
   "execution_count": 41,
   "metadata": {
    "colab": {
     "base_uri": "https://localhost:8080/"
    },
    "id": "sJI_LNfIFzvW",
    "outputId": "0e11abe4-2e82-4843-8872-cbc36850fc33"
   },
   "outputs": [
    {
     "name": "stdout",
     "output_type": "stream",
     "text": [
      "(36, 17)\n",
      "(36,)\n",
      "(16, 17)\n",
      "(16,)\n"
     ]
    }
   ],
   "source": [
    "print(X_train.shape)\n",
    "print(y_train.shape)\n",
    "print(X_test.shape)\n",
    "print(y_test.shape)"
   ]
  },
  {
   "cell_type": "markdown",
   "metadata": {
    "id": "8GqC84iGFzvW"
   },
   "source": [
    "#### Building the Gaussian Naive Bayes Model"
   ]
  },
  {
   "cell_type": "code",
   "execution_count": 42,
   "metadata": {
    "colab": {
     "base_uri": "https://localhost:8080/",
     "height": 51
    },
    "id": "gpHy73tViHo0",
    "outputId": "aaffd9cc-279d-4f7d-a2e7-2b2a1408b927"
   },
   "outputs": [
    {
     "data": {
      "text/html": [
       "<script src='https://cdnjs.cloudflare.com/ajax/libs/mathjax/2.7.3/latest.js?config=default'></script>"
      ],
      "text/plain": [
       "<IPython.core.display.HTML object>"
      ]
     },
     "metadata": {
      "tags": []
     },
     "output_type": "display_data"
    },
    {
     "data": {
      "text/latex": [
       "$$P(x_{i}\\mid y) = \\frac{1}{\\sqrt{2\\pi \\sigma_y^{2}}} \\exp \\left(-\\frac{(x_{i} -\\mu_{y})^2}{2\\sigma_y^{2}} \\right)$$"
      ],
      "text/plain": [
       "<IPython.core.display.Math object>"
      ]
     },
     "execution_count": 42,
     "metadata": {
      "tags": []
     },
     "output_type": "execute_result"
    }
   ],
   "source": [
    "display(HTML(\"<script src='https://cdnjs.cloudflare.com/ajax/libs/mathjax/2.7.3/\"\n",
    "               \"latest.js?config=default'></script>\"))\n",
    "\n",
    "Math(r'P(x_{i}\\mid y) = \\frac{1}{\\sqrt{2\\pi \\sigma_y^{2}}} \\exp \\left(-\\frac{(x_{i} -\\mu_{y})^2}{2\\sigma_y^{2}} \\right)')"
   ]
  },
  {
   "cell_type": "markdown",
   "metadata": {},
   "source": [
    "seperate data by class, then calculate data by class\n",
    "dealing eith continous data,  a typical assumption is that the continuous values associated with each class are distributed according to Gaussian distribution. As a result we built a function to calculate the density function that’s going to help us calculate the probability from a Gaussian Distribution.\n",
    "\n",
    "The above formula combines naive bayes with gaussian density. This is because the dataset deals with continuous features. \n",
    "\n",
    "The data is first segmented by class, as seen below.\n",
    "\n",
    "The mean and the variance of x (continous variable) is calculated for each class ( smile/frown ). \n",
    "\n",
    "Next, the probability is calculated using the Gaussian Probability Density Function.\n",
    "Class Probabilities is then calculated\n",
    "\n",
    "This is where the final prediction is made, followed by the accuracy and the error scores. \n"
   ]
  },
  {
   "cell_type": "code",
   "execution_count": 43,
   "metadata": {
    "id": "wTFRiB0hFzvY"
   },
   "outputs": [],
   "source": [
    "class NaiveBayes:\n",
    "    def __init__(self, X, y):\n",
    "        self.num_examples, self.num_features = X.shape\n",
    "        self.num_classes = len(np.unique(y))\n",
    "        self.eps = 1e-6\n",
    "\n",
    "    def fit(self, X, y):\n",
    "        self.classes_mean = {}\n",
    "        self.classes_variance = {}\n",
    "        self.classes_prior = {}\n",
    "\n",
    "        for c in range(self.num_classes):\n",
    "            X_c = X[y == c]\n",
    "            # Compute prior, mean, variance w.r.t class\n",
    "            self.classes_mean[str(c)] = np.mean(X_c, axis=0)\n",
    "            self.classes_variance[str(c)] = np.var(X_c, axis=0)\n",
    "            self.classes_prior[str(c)] = X_c.shape[0] / X.shape[0]\n",
    "\n",
    "    def predict(self, X):\n",
    "        probs = np.zeros((X_test.shape[0], self.num_classes))\n",
    "        # P(Class|Data) is proportional to P(Data|Class)*P(Class)\n",
    "        for c in range(self.num_classes):\n",
    "            prior = self.classes_prior[str(c)]\n",
    "            probs_c = self.density_function(\n",
    "                X, self.classes_mean[str(c)], self.classes_variance[str(c)]\n",
    "            )\n",
    "            probs[:, c] = probs_c + np.log(prior)\n",
    "\n",
    "        return np.argmax(probs, 1)\n",
    "\n",
    "    def density_function(self, x, mean, sigma):\n",
    "        # Calculate probability from Gaussian density function\n",
    "        # Equation divided into constant part and exponent part\n",
    "        # Constant term after taking log -d/(1/2)*log(2*pi)-(1/2)*log(variance+offset)\n",
    "        const = -self.num_features / 2 * np.log(2 * np.pi) - 0.5 * np.sum(\n",
    "            np.log(sigma + self.eps))\n",
    "        \n",
    "        #(1/2)((x_i-mu)^2/variance)\n",
    "        probs = 0.5 * np.sum(np.power(x - mean, 2) / (sigma + self.eps), 1)\n",
    "        return const - probs"
   ]
  },
  {
   "cell_type": "markdown",
   "metadata": {
    "id": "XeIN7VTofVSy"
   },
   "source": [
    "#### Create Classifier Object and Train it"
   ]
  },
  {
   "cell_type": "code",
   "execution_count": 44,
   "metadata": {
    "id": "mryT5LuwUuE9"
   },
   "outputs": [],
   "source": [
    "NB = NaiveBayes(X_train, y_train)\n",
    "NB.fit(X_train, y_train)"
   ]
  },
  {
   "cell_type": "markdown",
   "metadata": {
    "id": "tac-Bhm4f-5S"
   },
   "source": [
    "#### Predict the outcomes for Test Data"
   ]
  },
  {
   "cell_type": "code",
   "execution_count": 45,
   "metadata": {
    "id": "e3DHtMNkYFYE"
   },
   "outputs": [],
   "source": [
    "y_pred = NB.predict(X_test)"
   ]
  },
  {
   "cell_type": "markdown",
   "metadata": {
    "id": "wRgYZ0aPfx17"
   },
   "source": [
    "#### Computer the Performance (error rate and accuracy)"
   ]
  },
  {
   "cell_type": "code",
   "execution_count": 46,
   "metadata": {
    "colab": {
     "base_uri": "https://localhost:8080/"
    },
    "id": "0_vOaIaYZfC4",
    "outputId": "116beff6-486b-49a0-a526-789451f9eaea"
   },
   "outputs": [
    {
     "name": "stdout",
     "output_type": "stream",
     "text": [
      "Accuracy: 0.9375\n",
      "Error rate: 0.0625\n"
     ]
    }
   ],
   "source": [
    "Accuracy = sum(y_pred==y_test)/X_test.shape[0]\n",
    "print(\"Accuracy: {}\".format(Accuracy))\n",
    "print(\"Error rate: {}\".format(1-Accuracy))"
   ]
  },
  {
   "cell_type": "code",
   "execution_count": 46,
   "metadata": {
    "id": "wokAtswMjrQU"
   },
   "outputs": [],
   "source": []
  }
 ],
 "metadata": {
  "colab": {
   "collapsed_sections": [],
   "name": "NaiveBayes.ipynb",
   "provenance": []
  },
  "kernelspec": {
   "display_name": "Python 3",
   "language": "python",
   "name": "python3"
  },
  "language_info": {
   "codemirror_mode": {
    "name": "ipython",
    "version": 3
   },
   "file_extension": ".py",
   "mimetype": "text/x-python",
   "name": "python",
   "nbconvert_exporter": "python",
   "pygments_lexer": "ipython3",
   "version": "3.8.3"
  }
 },
 "nbformat": 4,
 "nbformat_minor": 1
}
